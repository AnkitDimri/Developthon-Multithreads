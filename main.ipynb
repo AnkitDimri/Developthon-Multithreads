{
 "cells": [
  {
   "cell_type": "code",
   "execution_count": 20,
   "metadata": {},
   "outputs": [],
   "source": [
    "import import_ipynb\n",
    "from tifffile import TiffFile\n",
    "from tiff_to_png import page_split\n",
    "from google.cloud import vision\n",
    "from google.cloud.vision import types\n",
    "import io\n",
    "from PIL import Image, ImageDraw\n",
    "from enum import Enum\n",
    "import os\n",
    "import cv2\n",
    "import datetime\n",
    "import json"
   ]
  },
  {
   "cell_type": "code",
   "execution_count": null,
   "metadata": {},
   "outputs": [],
   "source": []
  },
  {
   "cell_type": "code",
   "execution_count": 21,
   "metadata": {},
   "outputs": [
    {
     "name": "stdout",
     "output_type": "stream",
     "text": [
      "Give file name: doc.tiff\n"
     ]
    }
   ],
   "source": [
    "path = input (\"Give file name: \")"
   ]
  },
  {
   "cell_type": "code",
   "execution_count": 23,
   "metadata": {},
   "outputs": [
    {
     "name": "stdout",
     "output_type": "stream",
     "text": [
      "8\n"
     ]
    }
   ],
   "source": [
    "page_split (path)\n",
    "\n",
    "tif = TiffFile(path)\n",
    "num = len (tif.pages)\n",
    "print (num)"
   ]
  },
  {
   "cell_type": "code",
   "execution_count": 25,
   "metadata": {},
   "outputs": [],
   "source": [
    "\n",
    "for i in range (num):\n",
    "    \n",
    "    image_file = path + \"page%d.png\" % i\n",
    "    image  = Image.open(image_file)\n",
    "\n",
    "    new_files = datetime.datetime.now()\n",
    "    os.environ['GOOGLE_APPLICATION_CREDENTIALS'] = r'token.json'\n",
    "    client = vision.ImageAnnotatorClient()\n",
    "    with io.open(image_file, 'rb') as image_file1:\n",
    "        content = image_file1.read()\n",
    "    content_image = types.Image(content=content)\n",
    "    response = client.document_text_detection(image=content_image)\n",
    "    document = response.full_text_annotation.text\n",
    "\n",
    "    with open(str(new_files)+\".docx\", 'a') as f:\n",
    "        print(document+\"\\n\\n\\n\\n\\n\", file=f)\n",
    "    \n",
    "    os.remove(image_file)\n"
   ]
  },
  {
   "cell_type": "code",
   "execution_count": null,
   "metadata": {},
   "outputs": [],
   "source": []
  }
 ],
 "metadata": {
  "kernelspec": {
   "display_name": "Python 3",
   "language": "python",
   "name": "python3"
  },
  "language_info": {
   "codemirror_mode": {
    "name": "ipython",
    "version": 3
   },
   "file_extension": ".py",
   "mimetype": "text/x-python",
   "name": "python",
   "nbconvert_exporter": "python",
   "pygments_lexer": "ipython3",
   "version": "3.7.5"
  }
 },
 "nbformat": 4,
 "nbformat_minor": 2
}
